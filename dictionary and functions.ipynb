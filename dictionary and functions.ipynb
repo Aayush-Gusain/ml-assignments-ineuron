{
 "cells": [
  {
   "cell_type": "markdown",
   "id": "44195a47",
   "metadata": {},
   "source": [
    "1.1 Write a Python Program(with class concepts) to find the area of the triangle using the below formula\n",
    "        area = (s*(s-a)*(s-b)*(s-c))**0.5"
   ]
  },
  {
   "cell_type": "code",
   "execution_count": 3,
   "id": "86373358",
   "metadata": {},
   "outputs": [
    {
     "name": "stdout",
     "output_type": "stream",
     "text": [
      "a= 3\n",
      "b= 4\n",
      "c= 5\n",
      "area: 6.0\n"
     ]
    }
   ],
   "source": [
    "class sides:\n",
    "    def __init__(self,a,b,c):\n",
    "        self.a = a\n",
    "        self.b = b\n",
    "        self.c = c\n",
    "        \n",
    "a = int(input('a= '))\n",
    "b = int(input('b= '))\n",
    "c = int(input('c= '))\n",
    "\n",
    "class triangle(sides):\n",
    "    def __init__(self,*args):\n",
    "        super().__init__(*args)\n",
    "        \n",
    "    def area(self):\n",
    "        s = (a+b+c)/2\n",
    "        return (s*(s-a)*(s-b)*(s-c))**0.5\n",
    "\n",
    "t = triangle(a,b,c)\n",
    "print(\"area: {}\".format(t.area()))"
   ]
  },
  {
   "cell_type": "code",
   "execution_count": null,
   "id": "3e43252d",
   "metadata": {},
   "outputs": [],
   "source": []
  },
  {
   "cell_type": "code",
   "execution_count": null,
   "id": "eb6332ee",
   "metadata": {},
   "outputs": [],
   "source": []
  },
  {
   "cell_type": "markdown",
   "id": "6d4d1949",
   "metadata": {},
   "source": [
    "1.2 Write a function filter_long_words() that takes a list of words and an integer n and returns the list of words that are longer than n."
   ]
  },
  {
   "cell_type": "code",
   "execution_count": 6,
   "id": "bca66c50",
   "metadata": {},
   "outputs": [
    {
     "name": "stdout",
     "output_type": "stream",
     "text": [
      "enter n: 4\n",
      "['aayush', 'shubho', 'megha', 'deepak', 'rudra', 'gajender', 'saroj', 'tanvi', 'mohit']\n"
     ]
    }
   ],
   "source": [
    "l1 = ['aayush','shubho','vasu','megha','deepak','rudra','neha','gajender','saroj','tanvi','dev','mohit','indu']\n",
    "l2 = []\n",
    "n = int(input('enter n: '))\n",
    "\n",
    "def filter_long_words():\n",
    "    for i in l1:\n",
    "        if len(i)>n:\n",
    "            l2.append(i)\n",
    "    print(l2)\n",
    "            \n",
    "filter_long_words()"
   ]
  },
  {
   "cell_type": "code",
   "execution_count": null,
   "id": "d5b87a4d",
   "metadata": {},
   "outputs": [],
   "source": []
  },
  {
   "cell_type": "code",
   "execution_count": null,
   "id": "51666eab",
   "metadata": {},
   "outputs": [],
   "source": []
  },
  {
   "cell_type": "markdown",
   "id": "5756c4a0",
   "metadata": {},
   "source": [
    "2.1 Write a Python program using function concept that maps list of words into a list of integers representing the lengths of the corresponding words.\n",
    "Hint: If a list [ ab,cde,erty] is passed on to the python function output should come as [2,3,4].Here 2,3 and 4 are the lengths of the words in the list."
   ]
  },
  {
   "cell_type": "code",
   "execution_count": 12,
   "id": "2fdddc59",
   "metadata": {},
   "outputs": [
    {
     "name": "stdout",
     "output_type": "stream",
     "text": [
      "[6, 6, 4, 5, 6, 5, 4, 8, 5, 5, 3, 5, 4]\n"
     ]
    }
   ],
   "source": [
    "l1 = ['aayush','shubho','vasu','megha','deepak','rudra','neha','gajender','saroj','tanvi','dev','mohit','indu']\n",
    "l2 = []\n",
    "\n",
    "def counting_words():\n",
    "    for i in l1:\n",
    "        l2.append(len(i))\n",
    "    print(l2)\n",
    "\n",
    "9counting_words()"
   ]
  },
  {
   "cell_type": "code",
   "execution_count": null,
   "id": "9d6b3193",
   "metadata": {},
   "outputs": [],
   "source": []
  },
  {
   "cell_type": "code",
   "execution_count": null,
   "id": "1fa3ee97",
   "metadata": {},
   "outputs": [],
   "source": []
  },
  {
   "cell_type": "markdown",
   "id": "43640c1a",
   "metadata": {},
   "source": [
    "2.2 Write a Python function which takes a character (i.e. a string of length 1) and returns True if it is a vowel, False otherwise."
   ]
  },
  {
   "cell_type": "code",
   "execution_count": 42,
   "id": "2add3dab",
   "metadata": {},
   "outputs": [
    {
     "name": "stdout",
     "output_type": "stream",
     "text": [
      "please enter only one character: A\n",
      "true\n"
     ]
    }
   ],
   "source": [
    "str1 = input('please enter only one character: ')\n",
    "\n",
    "while len(str1) >1:\n",
    "        str1 = input('please enter only one character: ')\n",
    "        \n",
    "vowel = ['a','e','i','o','u']\n",
    "if str1.lower() in vowel:\n",
    "    print('true')\n",
    "else:\n",
    "    print('false')\n",
    "        \n",
    "        "
   ]
  },
  {
   "cell_type": "code",
   "execution_count": null,
   "id": "7a5efab3",
   "metadata": {},
   "outputs": [],
   "source": []
  }
 ],
 "metadata": {
  "kernelspec": {
   "display_name": "Python 3",
   "language": "python",
   "name": "python3"
  },
  "language_info": {
   "codemirror_mode": {
    "name": "ipython",
    "version": 3
   },
   "file_extension": ".py",
   "mimetype": "text/x-python",
   "name": "python",
   "nbconvert_exporter": "python",
   "pygments_lexer": "ipython3",
   "version": "3.8.8"
  }
 },
 "nbformat": 4,
 "nbformat_minor": 5
}
